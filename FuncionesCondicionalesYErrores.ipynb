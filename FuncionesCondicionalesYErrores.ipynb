{
  "nbformat": 4,
  "nbformat_minor": 0,
  "metadata": {
    "colab": {
      "provenance": [],
      "authorship_tag": "ABX9TyPAHUnmzro5LiMn0o3TMcdE",
      "include_colab_link": true
    },
    "kernelspec": {
      "name": "python3",
      "display_name": "Python 3"
    },
    "language_info": {
      "name": "python"
    }
  },
  "cells": [
    {
      "cell_type": "markdown",
      "metadata": {
        "id": "view-in-github",
        "colab_type": "text"
      },
      "source": [
        "<a href=\"https://colab.research.google.com/github/LeoAve/DiplomadoGADIA/blob/main/FuncionesCondicionalesYErrores.ipynb\" target=\"_parent\"><img src=\"https://colab.research.google.com/assets/colab-badge.svg\" alt=\"Open In Colab\"/></a>"
      ]
    },
    {
      "cell_type": "markdown",
      "source": [
        "##**FUNCIONES CONDICIONALES Y ERRORES**\n",
        "\n",
        "DIPLOMADO EN GOBIERNO Y ANALÍTICA DE DATOS\n",
        "\n",
        "FUNDACIÓN UNIVERSITARIA CAFAM\n",
        "\n",
        "DOCENTE: NICOLÁS MOJICA GOMÉZ\n",
        "\n",
        "ESTUDIANTE: LEONARDO ANDRÉS AVENDAÑO MÉNDEZ\n",
        "---\n",
        "\n"
      ],
      "metadata": {
        "id": "Z7abhZofu8_t"
      }
    },
    {
      "cell_type": "code",
      "execution_count": null,
      "metadata": {
        "colab": {
          "base_uri": "https://localhost:8080/"
        },
        "id": "LG6ov2nau5sx",
        "outputId": "d835e1d2-e15b-45e3-d560-9af0f555d4e5"
      },
      "outputs": [
        {
          "output_type": "stream",
          "name": "stdout",
          "text": [
            "Eres mayor de edad\n"
          ]
        }
      ],
      "source": [
        "##Las condicionales en python permiten tomar desiciones en el codigo basados en ciertas condiciones, son fundamaentalespara controlar el flujo de ejecucion\n",
        "edad=18\n",
        "##Crear una condicional que identifique si la persona es mayor o menor de edad\n",
        "\n",
        "if edad <18 :\n",
        "  print(\"Eres menor de edad\")\n",
        "else :\n",
        " print(\"Eres mayor de edad\")\n"
      ]
    },
    {
      "cell_type": "code",
      "source": [
        "##Generar un programa que clasifique la edad introducida por el usuario entre mayor y menor de edad\n",
        "edad = int(input(\"Por favor ingresa tu edad\"))\n",
        "if edad <18 :\n",
        "  print(\"Eres menor de edad\")\n",
        "else :\n",
        " print(\"Eres mayor de edad\")"
      ],
      "metadata": {
        "colab": {
          "base_uri": "https://localhost:8080/"
        },
        "id": "oUk_VeKPwWTk",
        "outputId": "5b7ebb40-ae07-4d5a-f73e-8e1e6cc663ed"
      },
      "execution_count": null,
      "outputs": [
        {
          "output_type": "stream",
          "name": "stdout",
          "text": [
            "Por favor ingresa tu edad 20\n",
            "Eres mayor de edad\n"
          ]
        }
      ]
    },
    {
      "cell_type": "code",
      "source": [
        "#Construya un programa que al ingresar la nota del usuario lo clasifique en:\n",
        "#NO aprobado <60, >=90 Clasificacion A, >=80 Clasificacion B, otros  Clasificacion C\n",
        "nota = int(input(\"Ingrese la nota \"))\n",
        "if nota >=60 :\n",
        " if nota >=90 :\n",
        "  print(\"Clasificacion A\")\n",
        " elif nota>=80 :\n",
        "  print(\"Clasificacion B\")\n",
        " else :\n",
        "  print(\"Clasificacion C\")\n",
        "else :\n",
        "  print(\"No aprobado\")"
      ],
      "metadata": {
        "colab": {
          "base_uri": "https://localhost:8080/"
        },
        "id": "Whx-SvhLwYxo",
        "outputId": "32d2b9de-7f8b-47e5-ffba-80fd801567d9"
      },
      "execution_count": null,
      "outputs": [
        {
          "output_type": "stream",
          "name": "stdout",
          "text": [
            "Ingrese la nota  70\n",
            "Clasificacion C\n"
          ]
        }
      ]
    },
    {
      "cell_type": "code",
      "source": [
        "\"\"\"Comparaciones\n",
        "Las condiciones en las sentencias condicionales suelen involucrar operadores de comparación:\n",
        "\n",
        "- == (igual a)\n",
        "- != (diferente de)\n",
        "- > (mayor que)\n",
        "- < (menor que)\n",
        "- >= (mayor o igual que)\n",
        "- <= (menor o igual que)\n",
        "\"\"\""
      ],
      "metadata": {
        "colab": {
          "base_uri": "https://localhost:8080/",
          "height": 53
        },
        "id": "Spc07M-JxRMG",
        "outputId": "3fd0b737-587f-40b0-d64c-445daf4f4cf1"
      },
      "execution_count": null,
      "outputs": [
        {
          "output_type": "execute_result",
          "data": {
            "text/plain": [
              "'Comparaciones\\nLas condiciones en las sentencias condicionales suelen involucrar operadores de comparación:\\n\\n- == (igual a)\\n- != (diferente de)\\n- > (mayor que)\\n- < (menor que)\\n- >= (mayor o igual que)\\n- <= (menor o igual que)\\n'"
            ],
            "application/vnd.google.colaboratory.intrinsic+json": {
              "type": "string"
            }
          },
          "metadata": {},
          "execution_count": 5
        }
      ]
    },
    {
      "cell_type": "code",
      "source": [
        "##Escribe un programa que verifique si un número ingresado por el usuario es par o impar.\n",
        "\n",
        "num = int(input(\"-> Ingrese un número: \"))\n",
        "if num%2 == 0:\n",
        "  print(\"// El número ingresado es par. \")\n",
        "else:\n",
        "  print(\"// El número ingresado es impar. \")\n",
        "\n",
        "# Negativa.\n",
        "  num = int(input(\"-> Ingrese un número: \"))\n",
        "if num%2 != 0:\n",
        "  print(\"// El número ingresado es impar. \")\n",
        "else:\n",
        "  print(\"// El número ingresado es par. \")"
      ],
      "metadata": {
        "colab": {
          "base_uri": "https://localhost:8080/"
        },
        "id": "K23irEbuxS7j",
        "outputId": "58a732db-bf61-49a3-a17b-f6a103e5375f"
      },
      "execution_count": null,
      "outputs": [
        {
          "output_type": "stream",
          "name": "stdout",
          "text": [
            "-> Ingrese un número: 5\n",
            "// El número ingresado es impar. \n",
            "-> Ingrese un número: 8\n",
            "// El número ingresado es par. \n"
          ]
        }
      ]
    },
    {
      "cell_type": "code",
      "source": [
        "\"\"\"\n",
        "Crea un programa que lea dos números y determine cuál es mayor, cuál es menor o si ambos son iguales.\n",
        "\"\"\"\n",
        "\n",
        "num1 = int(input(\"-> Ingrese el primer número: \"))\n",
        "num2 = int(input(\"-> Ingrese el segundo número: \"))\n",
        "\n",
        "if num1 != num2:\n",
        "\n",
        "  if num1 > num2:\n",
        "    print(\"// El primer número es mayor que el segundo. Es decir, el segundo número es menor que el primero. \")\n",
        "  else:\n",
        "    print(\"// El segundo número es mayor que el primero. Es decir, el primer número es menor que el segundo. \")\n",
        "\n",
        "else:\n",
        "  print(\"// Los dos números son iguales. \")"
      ],
      "metadata": {
        "colab": {
          "base_uri": "https://localhost:8080/"
        },
        "id": "MVw8oRCcxUm5",
        "outputId": "68b0bb0e-1f20-476a-e094-386144571efd"
      },
      "execution_count": null,
      "outputs": [
        {
          "output_type": "stream",
          "name": "stdout",
          "text": [
            "-> Ingrese el primer número: 3\n",
            "-> Ingrese el segundo número: 5\n",
            "// El segundo número es mayor que el primero. Es decir, el primer número es menor que el segundo. \n"
          ]
        }
      ]
    },
    {
      "cell_type": "code",
      "source": [
        "edad = int(input(\"Ingrese la edad: \"))\n",
        "\n",
        "if edad >= 0:\n",
        "    if edad <= 12:\n",
        "        print(\"Niño\")\n",
        "    elif edad <= 17:\n",
        "        print(\"Adolescente\")\n",
        "    elif edad <= 64:\n",
        "        print(\"Adulto\")\n",
        "    else:\n",
        "        print(\"Anciano\")"
      ],
      "metadata": {
        "colab": {
          "base_uri": "https://localhost:8080/"
        },
        "id": "Qofd81hBxXqu",
        "outputId": "5811d825-6aa0-4463-d103-99ecfba9ade5"
      },
      "execution_count": null,
      "outputs": [
        {
          "output_type": "stream",
          "name": "stdout",
          "text": [
            "Ingrese la edad: 71\n",
            "Anciano\n"
          ]
        }
      ]
    },
    {
      "cell_type": "markdown",
      "source": [
        "##2. Funciones\n",
        "Bloques de código en python que se pueden reutilizar para ejecutar una tarea en específico"
      ],
      "metadata": {
        "id": "vbqc2NEIxcaj"
      }
    },
    {
      "cell_type": "code",
      "source": [
        "#Tengo la función lineal y = mx+b\n",
        "#Deseo evaluar el valor de X = 5 en la función y=4x+7\n",
        "def funcion_lineal (x) :\n",
        "    variable = x\n",
        "    y=(4*variable)+7\n",
        "    z=print(f\"El valor de y es : {y}.\")\n",
        "    return z\n",
        "funcion_lineal(5)\n"
      ],
      "metadata": {
        "colab": {
          "base_uri": "https://localhost:8080/"
        },
        "id": "455xkyANxaMq",
        "outputId": "864a956b-da0d-44ff-8a7b-71c801922824"
      },
      "execution_count": null,
      "outputs": [
        {
          "output_type": "stream",
          "name": "stdout",
          "text": [
            "El valor de y es : 27.\n"
          ]
        }
      ]
    },
    {
      "cell_type": "code",
      "source": [
        "#Función con 2 variables\n",
        "def suma(a,b) :\n",
        "  return a + b\n",
        "print(suma(2,2))"
      ],
      "metadata": {
        "colab": {
          "base_uri": "https://localhost:8080/"
        },
        "id": "OIMrUj7Fxeip",
        "outputId": "30f5f424-4c9a-4775-903d-0de6e4fb3ba5"
      },
      "execution_count": null,
      "outputs": [
        {
          "output_type": "stream",
          "name": "stdout",
          "text": [
            "4\n"
          ]
        }
      ]
    },
    {
      "cell_type": "code",
      "source": [
        "#Con Prints\n",
        "\n",
        "def verificar_mayoria_edad(edad):\n",
        "    if edad < 0:\n",
        "        print (\"Edad no válida\")\n",
        "    elif edad >= 18:\n",
        "        print(\"Eres mayor de edad.\")\n",
        "    else:\n",
        "        print(\"Eres menor de edad.\")\n",
        "\n",
        "# Ejemplo de uso\n",
        "edad = int(input(\"Ingresa tu edad: \"))\n",
        "verificar_mayoria_edad(edad)\n",
        "\n",
        "#Con Returns\n",
        "def verificar_mayoria_edad(edad):\n",
        "    if edad < 0:\n",
        "        return \"Edad no válida\"\n",
        "    elif edad >= 18:\n",
        "        return \"Eres mayor de edad.\"\n",
        "    else:\n",
        "        return \"Eres menor de edad.\"\n",
        "\n",
        "# Ejemplo de uso\n",
        "edad = int(input(\"Ingresa tu edad: \"))\n",
        "print(verificar_mayoria_edad(edad))"
      ],
      "metadata": {
        "colab": {
          "base_uri": "https://localhost:8080/"
        },
        "id": "kuTgiR2hxfyY",
        "outputId": "77c31543-4191-4f1c-f8a8-c352c2769989"
      },
      "execution_count": null,
      "outputs": [
        {
          "output_type": "stream",
          "name": "stdout",
          "text": [
            "Ingresa tu edad: 1\n",
            "Eres menor de edad.\n",
            "Ingresa tu edad: 20\n",
            "Eres mayor de edad.\n"
          ]
        }
      ]
    },
    {
      "cell_type": "code",
      "source": [
        "#Defina una función que al ingresar su nombre lo salude\n",
        "def saludar(nombre):\n",
        "      print(\"Hola \"+nombre)\n",
        "\n",
        "saludar(input(\"Ingrese su nombre:\"))"
      ],
      "metadata": {
        "colab": {
          "base_uri": "https://localhost:8080/"
        },
        "id": "5wDaWUipx3Ui",
        "outputId": "4e844920-2818-4ad6-db67-fd7f2356ba33"
      },
      "execution_count": null,
      "outputs": [
        {
          "output_type": "stream",
          "name": "stdout",
          "text": [
            "Ingrese su nombre:Leo\n",
            "Hola Leo\n"
          ]
        }
      ]
    },
    {
      "cell_type": "code",
      "source": [
        "# Defina una funcion que al ingresar su nombre lo salude y determine si ud es mayor o menor de edad.\n",
        "\n",
        "def saludo():\n",
        "  nombre = input(\"-> Ingrese su nombre: \")\n",
        "  edad = int(input(\"-> Ingrese su edad: \"))\n",
        "  TipoEdad = \"\"\n",
        "\n",
        "  if edad >= 0:\n",
        "\n",
        "    if edad<18:\n",
        "      TipoEdad = \"Menor\"\n",
        "    else:\n",
        "      TipoEdad = \"Mayor\"\n",
        "\n",
        "  else:\n",
        "    print(\"// La edad no puede ser mayor a 0. \")\n",
        "    TipoEdad = \"[Edad ingresada inválida]\"\n",
        "\n",
        "  return f\"Hola, {nombre}! Usted es {TipoEdad} de edad.\"\n",
        "\n",
        "print(saludo())"
      ],
      "metadata": {
        "colab": {
          "base_uri": "https://localhost:8080/"
        },
        "id": "OvgdZqUh0D3q",
        "outputId": "86f72c8c-180b-4152-ddf8-7e16a8e13bad"
      },
      "execution_count": null,
      "outputs": [
        {
          "output_type": "stream",
          "name": "stdout",
          "text": [
            "-> Ingrese su nombre: Leonardo\n",
            "-> Ingrese su edad: 20\n",
            "Hola, Leonardo! Usted es Mayor de edad.\n"
          ]
        }
      ]
    },
    {
      "cell_type": "code",
      "source": [
        "# Programa que verifica una contraseña predeterminada\n",
        "\n",
        "def verificar_clave():\n",
        "    clave = input(\"Ingrese la contraseña: \")\n",
        "    if clave == \"secreta123\":\n",
        "        print(\"Contraseña correcta.\")\n",
        "    else:\n",
        "        print(\"Contraseña incorrecta.\")\n",
        "\n",
        "\n",
        "if __name__ == \"__main__\":\n",
        "    verificar_clave()\n"
      ],
      "metadata": {
        "colab": {
          "base_uri": "https://localhost:8080/"
        },
        "id": "OI34MpW40Q7Q",
        "outputId": "f5af34c5-5457-485d-d4c5-9956eea753bf"
      },
      "execution_count": null,
      "outputs": [
        {
          "output_type": "stream",
          "name": "stdout",
          "text": [
            "Ingrese la contraseña: secreta123\n",
            "Contraseña correcta.\n"
          ]
        }
      ]
    },
    {
      "cell_type": "code",
      "source": [],
      "metadata": {
        "id": "pGzUFezxAckE"
      },
      "execution_count": null,
      "outputs": []
    }
  ]
}