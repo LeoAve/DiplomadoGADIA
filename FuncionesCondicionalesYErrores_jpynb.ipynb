{
  "nbformat": 4,
  "nbformat_minor": 0,
  "metadata": {
    "colab": {
      "provenance": [],
      "authorship_tag": "ABX9TyPo2LuDtWTCROngYQmA/Tpu",
      "include_colab_link": true
    },
    "kernelspec": {
      "name": "python3",
      "display_name": "Python 3"
    },
    "language_info": {
      "name": "python"
    }
  },
  "cells": [
    {
      "cell_type": "markdown",
      "metadata": {
        "id": "view-in-github",
        "colab_type": "text"
      },
      "source": [
        "<a href=\"https://colab.research.google.com/github/LeoAve/DiplomadoGADIA/blob/main/FuncionesCondicionalesYErrores_jpynb.ipynb\" target=\"_parent\"><img src=\"https://colab.research.google.com/assets/colab-badge.svg\" alt=\"Open In Colab\"/></a>"
      ]
    },
    {
      "cell_type": "markdown",
      "source": [
        "**FUNCIONES CONDICIONALES Y ERRORES**\n",
        "\n",
        "DIPLOMADO EN GOBIERNO Y ANALÍTICA DE DATOS\n",
        "\n",
        "FUNDACIÓN UNIVERSITARIA CAFAM\n",
        "\n",
        "DOCENTE: NICOLÁS MOJICA GOMÉZ\n",
        "\n",
        "ESTUDIANTE: LEONARDO ANDRÉS AVENDAÑO MÉNDEZ\n",
        "\n",
        "\n",
        "\n",
        "---"
      ],
      "metadata": {
        "id": "f6ezTBgz3xOU"
      }
    },
    {
      "cell_type": "code",
      "source": [
        "##Las condicionales en python permiten tomar desiciones en el codigo basados en ciertas condiciones, son fundamaentalespara controlar el flujo de ejecucion\n",
        "edad=18\n",
        "##Crear una condicional que identifique si la persona es mayor o menor de edad\n",
        "\n",
        "if edad <18 :\n",
        "  print(\"Eres menor de edad\")\n",
        "else :\n",
        " print(\"Eres mayor de edad\")"
      ],
      "metadata": {
        "colab": {
          "base_uri": "https://localhost:8080/"
        },
        "id": "qHjUQQ1D3-Cz",
        "outputId": "60e79e57-3ccb-490c-874f-b82dce555f2a"
      },
      "execution_count": 4,
      "outputs": [
        {
          "output_type": "stream",
          "name": "stdout",
          "text": [
            "Eres mayor de edad\n"
          ]
        }
      ]
    },
    {
      "cell_type": "code",
      "source": [
        "##Generar un programa que clasifique la edad introducida por el usuario entre mayor y menor de edad\n",
        "edad = int(input(\"Por favor ingresa tu edad\"))\n",
        "if edad <18 :\n",
        "  print(\"Eres menor de edad\")\n",
        "else :\n",
        " print(\"Eres mayor de edad\")"
      ],
      "metadata": {
        "colab": {
          "base_uri": "https://localhost:8080/"
        },
        "id": "4D3SY0ac4AH5",
        "outputId": "34124925-5d85-4b31-c469-764635859330"
      },
      "execution_count": 7,
      "outputs": [
        {
          "output_type": "stream",
          "name": "stdout",
          "text": [
            "Por favor ingresa tu edad 20\n",
            "Eres mayor de edad\n"
          ]
        }
      ]
    },
    {
      "cell_type": "code",
      "source": [
        "#Construya un programa que al ingresar la nota del usuario lo clasifique en:\n",
        "#NO aprobado <60, >=90 Clasificacion A, >=80 Clasificacion B, otros  Clasificacion C\n",
        "nota = int(input(\"Ingrese la nota \"))\n",
        "if nota >=60 :\n",
        " if nota >=90 :\n",
        "  print(\"Clasificacion A\")\n",
        " elif nota>=80 :\n",
        "  print(\"Clasificacion B\")\n",
        " else :\n",
        "  print(\"Clasificacion C\")\n",
        "else :\n",
        "  print(\"No aprobado\")"
      ],
      "metadata": {
        "colab": {
          "base_uri": "https://localhost:8080/"
        },
        "id": "A6eZ6PDu5wOf",
        "outputId": "a727d88c-3a68-439c-931c-97d5932ad155"
      },
      "execution_count": 8,
      "outputs": [
        {
          "output_type": "stream",
          "name": "stdout",
          "text": [
            "Ingrese la nota  70\n",
            "Clasificacion C\n"
          ]
        }
      ]
    },
    {
      "cell_type": "code",
      "source": [
        "\"\"\"Comparaciones\n",
        "Las condiciones en las sentencias condicionales suelen involucrar operadores de comparación:\n",
        "\n",
        "- == (igual a)\n",
        "- != (diferente de)\n",
        "- > (mayor que)\n",
        "- < (menor que)\n",
        "- >= (mayor o igual que)\n",
        "- <= (menor o igual que)\n",
        "\"\"\""
      ],
      "metadata": {
        "colab": {
          "base_uri": "https://localhost:8080/",
          "height": 53
        },
        "id": "RdQm7SnD6RFo",
        "outputId": "b0bb1386-b8ae-40cb-b872-1b8058b72a49"
      },
      "execution_count": 11,
      "outputs": [
        {
          "output_type": "execute_result",
          "data": {
            "text/plain": [
              "'Comparaciones\\nLas condiciones en las sentencias condicionales suelen involucrar operadores de comparación:\\n\\n- == (igual a)\\n- != (diferente de)\\n- > (mayor que)\\n- < (menor que)\\n- >= (mayor o igual que)\\n- <= (menor o igual que)\\n'"
            ],
            "application/vnd.google.colaboratory.intrinsic+json": {
              "type": "string"
            }
          },
          "metadata": {},
          "execution_count": 11
        }
      ]
    },
    {
      "cell_type": "code",
      "source": [
        "##Escribe un programa que verifique si un número ingresado por el usuario es par o impar.\n",
        "\n",
        "num = int(input(\"-> Ingrese un número: \"))\n",
        "if num%2 == 0:\n",
        "  print(\"// El número ingresado es par. \")\n",
        "else:\n",
        "  print(\"// El número ingresado es impar. \")\n",
        "\n",
        "# Negativa.\n",
        "  num = int(input(\"-> Ingrese un número: \"))\n",
        "if num%2 != 0:\n",
        "  print(\"// El número ingresado es impar. \")\n",
        "else:\n",
        "  print(\"// El número ingresado es par. \")\n",
        ""
      ],
      "metadata": {
        "colab": {
          "base_uri": "https://localhost:8080/"
        },
        "id": "LjtvKHwg6WN4",
        "outputId": "4010135d-5b0a-47a3-fef9-6c6691aff666"
      },
      "execution_count": 12,
      "outputs": [
        {
          "output_type": "stream",
          "name": "stdout",
          "text": [
            "-> Ingrese un número:  5\n",
            "// El número ingresado es impar. \n",
            "-> Ingrese un número: 8\n",
            "// El número ingresado es par. \n"
          ]
        }
      ]
    },
    {
      "cell_type": "code",
      "source": [
        "\"\"\"\n",
        "Crea un programa que lea dos números y determine cuál es mayor, cuál es menor o si ambos son iguales.\n",
        "\"\"\"\n",
        "\n",
        "num1 = int(input(\"-> Ingrese el primer número: \"))\n",
        "num2 = int(input(\"-> Ingrese el segundo número: \"))\n",
        "\n",
        "if num1 != num2:\n",
        "\n",
        "  if num1 > num2:\n",
        "    print(\"// El primer número es mayor que el segundo. Es decir, el segundo número es menor que el primero. \")\n",
        "  else:\n",
        "    print(\"// El segundo número es mayor que el primero. Es decir, el primer número es menor que el segundo. \")\n",
        "\n",
        "else:\n",
        "  print(\"// Los dos números son iguales. \")"
      ],
      "metadata": {
        "colab": {
          "base_uri": "https://localhost:8080/"
        },
        "id": "lNYmUR786s5i",
        "outputId": "bb86aec3-321f-4b24-d2a1-66f61aae0dcd"
      },
      "execution_count": 16,
      "outputs": [
        {
          "output_type": "stream",
          "name": "stdout",
          "text": [
            "-> Ingrese el primer número: 3\n",
            "-> Ingrese el segundo número: 5\n",
            "// El segundo número es mayor que el primero. Es decir, el primer número es menor que el segundo. \n"
          ]
        }
      ]
    },
    {
      "cell_type": "code",
      "source": [
        "edad = int(input(\"Ingrese la edad: \"))\n",
        "\n",
        "if edad >= 0:\n",
        "    if edad <= 12:\n",
        "        print(\"Niño\")\n",
        "    elif edad <= 17:\n",
        "        print(\"Adolescente\")\n",
        "    elif edad <= 64:\n",
        "        print(\"Adulto\")\n",
        "    else:\n",
        "        print(\"Anciano\")"
      ],
      "metadata": {
        "colab": {
          "base_uri": "https://localhost:8080/"
        },
        "id": "dQUo1CA87AWz",
        "outputId": "5b9d6479-50c4-4941-e193-fce64c943f1d"
      },
      "execution_count": 15,
      "outputs": [
        {
          "output_type": "stream",
          "name": "stdout",
          "text": [
            "Ingrese la edad: 71\n",
            "Anciano\n"
          ]
        }
      ]
    },
    {
      "cell_type": "markdown",
      "source": [
        "## 2. Funciones\n",
        "#Bloques  de código en python que se pueden reutilizar para ejecutar una tarea en específico\n"
      ],
      "metadata": {
        "id": "QszCZcoo8Vw8"
      }
    },
    {
      "cell_type": "code",
      "source": [
        "#Tengo la función lineal y = mx+b\n",
        "#Deseo evaluar el valor de X = 5 en la función y=4x+7\n",
        "def funcion_lineal (x) :\n",
        "    variable = x\n",
        "    y=(4*variable)+7\n",
        "    z=print(f\"El valor de y es : {y}.\")\n",
        "    return z\n",
        "funcion_lineal(5)\n",
        ""
      ],
      "metadata": {
        "colab": {
          "base_uri": "https://localhost:8080/"
        },
        "id": "rTt9gymT7THh",
        "outputId": "6d0f652f-e1ad-46fb-b14e-6e5eefb629e7"
      },
      "execution_count": 17,
      "outputs": [
        {
          "output_type": "stream",
          "name": "stdout",
          "text": [
            "El valor de y es : 27.\n"
          ]
        }
      ]
    },
    {
      "cell_type": "code",
      "source": [
        "#Función con 2 variables\n",
        "def suma(a,b) :\n",
        "  return a + b\n",
        "print(suma(2,2))"
      ],
      "metadata": {
        "colab": {
          "base_uri": "https://localhost:8080/"
        },
        "id": "tOwi1q6D8mn6",
        "outputId": "7bba2b62-6bb7-4dc0-9759-01bda7b90cf6"
      },
      "execution_count": 18,
      "outputs": [
        {
          "output_type": "stream",
          "name": "stdout",
          "text": [
            "4\n"
          ]
        }
      ]
    },
    {
      "cell_type": "code",
      "source": [
        "#Con Prints\n",
        "\n",
        "def verificar_mayoria_edad(edad):\n",
        "    if edad < 0:\n",
        "        print (\"Edad no válida\")\n",
        "    elif edad >= 18:\n",
        "        print(\"Eres mayor de edad.\")\n",
        "    else:\n",
        "        print(\"Eres menor de edad.\")\n",
        "\n",
        "# Ejemplo de uso\n",
        "edad = int(input(\"Ingresa tu edad: \"))\n",
        "verificar_mayoria_edad(edad)\n",
        "\n",
        "#Con Returns\n",
        "def verificar_mayoria_edad(edad):\n",
        "    if edad < 0:\n",
        "        return \"Edad no válida\"\n",
        "    elif edad >= 18:\n",
        "        return \"Eres mayor de edad.\"\n",
        "    else:\n",
        "        return \"Eres menor de edad.\"\n",
        "\n",
        "# Ejemplo de uso\n",
        "edad = int(input(\"Ingresa tu edad: \"))\n",
        "print(verificar_mayoria_edad(edad))"
      ],
      "metadata": {
        "colab": {
          "base_uri": "https://localhost:8080/"
        },
        "id": "qyT6OGmP9l3H",
        "outputId": "4f62022d-01d4-4ce1-9adb-b9795bcc20fa"
      },
      "execution_count": 19,
      "outputs": [
        {
          "output_type": "stream",
          "name": "stdout",
          "text": [
            "Ingresa tu edad: 1\n",
            "Eres menor de edad.\n",
            "Ingresa tu edad: 20\n",
            "Eres mayor de edad.\n"
          ]
        }
      ]
    },
    {
      "cell_type": "code",
      "source": [],
      "metadata": {
        "id": "OszMyqaO981H"
      },
      "execution_count": null,
      "outputs": []
    }
  ]
}