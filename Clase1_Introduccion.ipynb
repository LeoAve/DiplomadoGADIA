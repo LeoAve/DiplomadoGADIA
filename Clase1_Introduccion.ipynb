{
  "nbformat": 4,
  "nbformat_minor": 0,
  "metadata": {
    "colab": {
      "provenance": [],
      "toc_visible": true,
      "authorship_tag": "ABX9TyNYnkI8+HRBkmU+tyAADhCY",
      "include_colab_link": true
    },
    "kernelspec": {
      "name": "python3",
      "display_name": "Python 3"
    },
    "language_info": {
      "name": "python"
    }
  },
  "cells": [
    {
      "cell_type": "markdown",
      "metadata": {
        "id": "view-in-github",
        "colab_type": "text"
      },
      "source": [
        "<a href=\"https://colab.research.google.com/github/LeoAve/DiplomadoGADIA/blob/main/Clase1_Introduccion.ipynb\" target=\"_parent\"><img src=\"https://colab.research.google.com/assets/colab-badge.svg\" alt=\"Open In Colab\"/></a>"
      ]
    },
    {
      "cell_type": "code",
      "execution_count": null,
      "metadata": {
        "id": "IDBscH_7oyju"
      },
      "outputs": [],
      "source": []
    },
    {
      "cell_type": "markdown",
      "source": [
        "**INTRODUCCIÓN A PYTHON**\n",
        "\n",
        "DIPLOMADO EN GOBIERNO Y ANALÍTICA DE DATOS\n",
        "\n",
        "FUNDACIÓN UNIVERSITARIA CAFAM\n",
        "\n",
        "DOCENTE: NICOLÁS MOJICA GOMÉZ\n",
        "\n",
        "ESTUDIANTE: LEONARDO ANDRÉS AVENDAÑO MÉNDEZ\n",
        "\n",
        "\n",
        "\n",
        "---"
      ],
      "metadata": {
        "id": "AGlckg0xqwEw"
      }
    },
    {
      "cell_type": "markdown",
      "source": [
        "## 1. Comentario en los códigos\n",
        "\n",
        "Para comentar códigos en python existen diferentes formas de crear comentarios, esto nos permite comentar nustras secuencias de comandos para su analisis o posterior modificación."
      ],
      "metadata": {
        "id": "wlUDhqjsrt30"
      }
    },
    {
      "cell_type": "code",
      "source": [
        "#Este comentario es de una sola linea\n",
        "#Python es sensible a las mayúsculas y minúsculas\n",
        "print(\"Hola Mundo\")"
      ],
      "metadata": {
        "colab": {
          "base_uri": "https://localhost:8080/"
        },
        "id": "1x55ZkpzrSEz",
        "outputId": "f42c4a9b-ec8e-439a-d9e4-31471fa29fd7"
      },
      "execution_count": 2,
      "outputs": [
        {
          "output_type": "stream",
          "name": "stdout",
          "text": [
            "Hola Mundo\n"
          ]
        }
      ]
    },
    {
      "cell_type": "code",
      "source": [
        "'''\n",
        "Este es un comentario de multiples lineas\n",
        "puede extenderse en varias lineas\n",
        "'''\n",
        "print(\"Hola Mundo\")"
      ],
      "metadata": {
        "colab": {
          "base_uri": "https://localhost:8080/"
        },
        "id": "nz6yLj77wC4G",
        "outputId": "653d9e98-232f-4626-bf6d-7e62acd45cc4"
      },
      "execution_count": 5,
      "outputs": [
        {
          "output_type": "stream",
          "name": "stdout",
          "text": [
            "Hola Mundo\n"
          ]
        }
      ]
    },
    {
      "cell_type": "markdown",
      "source": [
        "##2. Variables##\n",
        "\n",
        "Una variable es un elemento de un lenguaje de programación que tiene asignado un valor determinado"
      ],
      "metadata": {
        "id": "HA3r8o9ewTzs"
      }
    },
    {
      "cell_type": "code",
      "source": [
        "## Para crear una variable en Python, se le debe proporcionar un nombre y se le debe asignar un valor usando un \"=\"\n",
        "var=\"Hola mundo\"\n",
        "print(var)\n"
      ],
      "metadata": {
        "colab": {
          "base_uri": "https://localhost:8080/"
        },
        "id": "7yULknhkwJBt",
        "outputId": "8fa740c3-8b55-4b8e-bb61-5410a3f0b07c"
      },
      "execution_count": 9,
      "outputs": [
        {
          "output_type": "stream",
          "name": "stdout",
          "text": [
            "Hola mundo\n"
          ]
        }
      ]
    },
    {
      "cell_type": "code",
      "source": [
        "## Las variables pueden cambiar a lo largo del programa en Python\n",
        "var=\"Adios mundo var\"\n",
        "print(var)"
      ],
      "metadata": {
        "colab": {
          "base_uri": "https://localhost:8080/"
        },
        "id": "0yrCu36cyCmT",
        "outputId": "d1b1daf0-cb94-4b47-f2bf-de4eff2af39f"
      },
      "execution_count": 10,
      "outputs": [
        {
          "output_type": "stream",
          "name": "stdout",
          "text": [
            "Adios mundo var\n"
          ]
        }
      ]
    },
    {
      "cell_type": "markdown",
      "source": [
        "##3. Tipos de Datos"
      ],
      "metadata": {
        "id": "iMlpby7343xr"
      }
    },
    {
      "cell_type": "code",
      "source": [
        "#Tipos de datos numéricos\n",
        "entero=42\n",
        "#En la mayor parte de lenguajes de programación los enteros son representados con \"int\""
      ],
      "metadata": {
        "id": "0wmnriYF5WUi"
      },
      "execution_count": 11,
      "outputs": []
    },
    {
      "cell_type": "code",
      "source": [
        "#Tipo de datos flotantes\n",
        "flotante=3.14151"
      ],
      "metadata": {
        "id": "R2usCLjm56F7"
      },
      "execution_count": 12,
      "outputs": []
    },
    {
      "cell_type": "code",
      "source": [
        "# Conversión de los tipos de datos\n",
        "# Convertir un flotante a un número entero\n",
        "entero=int(3.14)\n",
        "print(entero)"
      ],
      "metadata": {
        "colab": {
          "base_uri": "https://localhost:8080/"
        },
        "id": "JSA6W1GD5_vH",
        "outputId": "32b3a34a-1782-497f-f171-27fc58a4abeb"
      },
      "execution_count": 13,
      "outputs": [
        {
          "output_type": "stream",
          "name": "stdout",
          "text": [
            "3\n"
          ]
        }
      ]
    },
    {
      "cell_type": "code",
      "source": [
        "#Convertir entero a flotante\n",
        "flotante=float(5)\n",
        "print(flotante)"
      ],
      "metadata": {
        "colab": {
          "base_uri": "https://localhost:8080/"
        },
        "id": "ZyxpRcAs690U",
        "outputId": "54db704a-974e-4e81-997b-d5c8d7d8e045"
      },
      "execution_count": 14,
      "outputs": [
        {
          "output_type": "stream",
          "name": "stdout",
          "text": [
            "5.0\n"
          ]
        }
      ]
    },
    {
      "cell_type": "markdown",
      "source": [
        "##4. Operadores aritméticos\n",
        "\n",
        "Los operadores matemáticos se utilizan para realizar operaciones comunes como la adición, sustracción, multiplicación, etc."
      ],
      "metadata": {
        "id": "rEC2biYW7wxY"
      }
    },
    {
      "cell_type": "code",
      "source": [
        "# Suma\n",
        "a=10\n",
        "b=5\n",
        "print(a+b)"
      ],
      "metadata": {
        "colab": {
          "base_uri": "https://localhost:8080/"
        },
        "id": "IQU5UHSQ7ZuL",
        "outputId": "e9d1552f-e0a8-4b64-cd47-dce3ea13d185"
      },
      "execution_count": 16,
      "outputs": [
        {
          "output_type": "stream",
          "name": "stdout",
          "text": [
            "15\n"
          ]
        }
      ]
    },
    {
      "cell_type": "code",
      "source": [
        "# Resta\n",
        "c=a-b\n",
        "print(c)"
      ],
      "metadata": {
        "colab": {
          "base_uri": "https://localhost:8080/"
        },
        "id": "FjqUWwSF8YWk",
        "outputId": "f2ec2c84-5e5f-45fa-d6c1-c23a1f14b922"
      },
      "execution_count": 18,
      "outputs": [
        {
          "output_type": "stream",
          "name": "stdout",
          "text": [
            "5\n"
          ]
        }
      ]
    },
    {
      "cell_type": "code",
      "source": [
        "# Multiplicacion\n",
        "d=a*b\n",
        "print(d)"
      ],
      "metadata": {
        "colab": {
          "base_uri": "https://localhost:8080/"
        },
        "id": "tfqF-urh8vKR",
        "outputId": "8fc48021-9ad9-4718-f4a0-b5c50962abb4"
      },
      "execution_count": 19,
      "outputs": [
        {
          "output_type": "stream",
          "name": "stdout",
          "text": [
            "50\n"
          ]
        }
      ]
    },
    {
      "cell_type": "code",
      "source": [
        "# División\n",
        "e=a/b\n",
        "print(e)\n"
      ],
      "metadata": {
        "colab": {
          "base_uri": "https://localhost:8080/"
        },
        "id": "FRu2JOBr9B0T",
        "outputId": "6e340b74-4277-4187-9e8c-bd3de8e44515"
      },
      "execution_count": 20,
      "outputs": [
        {
          "output_type": "stream",
          "name": "stdout",
          "text": [
            "2.0\n"
          ]
        }
      ]
    },
    {
      "cell_type": "code",
      "source": [
        "# Divisón Entera\n",
        "print(a//b)"
      ],
      "metadata": {
        "colab": {
          "base_uri": "https://localhost:8080/"
        },
        "id": "LBbEqE44AzLN",
        "outputId": "4e5a5b82-a297-418d-f244-ab1617163dcb"
      },
      "execution_count": 21,
      "outputs": [
        {
          "output_type": "stream",
          "name": "stdout",
          "text": [
            "2\n"
          ]
        }
      ]
    },
    {
      "cell_type": "code",
      "source": [
        "# Modulo, residuo de una operación\n",
        "print(a%b)"
      ],
      "metadata": {
        "colab": {
          "base_uri": "https://localhost:8080/"
        },
        "id": "eAr1U00ABCk8",
        "outputId": "06099374-aeb4-47d9-a343-95e007280975"
      },
      "execution_count": 23,
      "outputs": [
        {
          "output_type": "stream",
          "name": "stdout",
          "text": [
            "0\n"
          ]
        }
      ]
    },
    {
      "cell_type": "code",
      "source": [
        "# Potenciación\n",
        "print(a**b)"
      ],
      "metadata": {
        "colab": {
          "base_uri": "https://localhost:8080/"
        },
        "id": "2pbCu-BYBSmM",
        "outputId": "99cb42b0-3178-4272-8c2f-beab0e2e31ce"
      },
      "execution_count": 25,
      "outputs": [
        {
          "output_type": "stream",
          "name": "stdout",
          "text": [
            "100000\n"
          ]
        }
      ]
    },
    {
      "cell_type": "code",
      "source": [
        "# Asignación compuesta\n",
        "a+=b\n",
        "print(a)"
      ],
      "metadata": {
        "colab": {
          "base_uri": "https://localhost:8080/"
        },
        "id": "Tt3a6QsHBnrC",
        "outputId": "a0d80237-050d-4d18-9c52-90ea54e750a3"
      },
      "execution_count": 26,
      "outputs": [
        {
          "output_type": "stream",
          "name": "stdout",
          "text": [
            "15\n"
          ]
        }
      ]
    },
    {
      "cell_type": "code",
      "source": [
        "print(a)"
      ],
      "metadata": {
        "colab": {
          "base_uri": "https://localhost:8080/"
        },
        "id": "I68LA7T3CDNK",
        "outputId": "bbcbcc72-b594-4f85-dfd7-095417a333c5"
      },
      "execution_count": 27,
      "outputs": [
        {
          "output_type": "stream",
          "name": "stdout",
          "text": [
            "15\n"
          ]
        }
      ]
    },
    {
      "cell_type": "code",
      "source": [
        "a-b\n",
        "print(a)"
      ],
      "metadata": {
        "colab": {
          "base_uri": "https://localhost:8080/"
        },
        "id": "cs8YrtvsCiu8",
        "outputId": "c5d77d9b-2783-479c-b87e-6b78724d9ad5"
      },
      "execution_count": 33,
      "outputs": [
        {
          "output_type": "stream",
          "name": "stdout",
          "text": [
            "0\n"
          ]
        }
      ]
    },
    {
      "cell_type": "code",
      "source": [
        "# Redondeo\n",
        "var4=3.1410\n",
        "print(round(var4,2))"
      ],
      "metadata": {
        "colab": {
          "base_uri": "https://localhost:8080/"
        },
        "id": "57XqikLYClYR",
        "outputId": "5228d049-9ee0-4afe-e88b-d9e5e6937da5"
      },
      "execution_count": 34,
      "outputs": [
        {
          "output_type": "stream",
          "name": "stdout",
          "text": [
            "3.14\n"
          ]
        }
      ]
    },
    {
      "cell_type": "markdown",
      "source": [
        "**Ejercicio 4: Operadores Matemáticos**"
      ],
      "metadata": {
        "id": "CMgScr3TIc9j"
      }
    },
    {
      "cell_type": "code",
      "source": [
        "# Paso 1: Declara dos variables a y b con los valores 10 y 3, respectivamente.\n",
        "a = 10\n",
        "b = 3\n",
        "\n",
        "# Paso 2: Calcula la suma de a y b y asígnala a una variable suma.\n",
        "suma = a + b\n",
        "print(\"Suma:\", suma)\n",
        "\n",
        "# Paso 3: Calcula la resta de a y b y asígnala a una variable resta.\n",
        "resta = a - b\n",
        "print(\"Resta:\", resta)\n",
        "\n",
        "# Paso 4: Calcula la multiplicación de a y b y asígnala a una variable multiplicacion.\n",
        "multiplicacion = a * b\n",
        "print(\"Multiplicación:\", multiplicacion)\n",
        "\n",
        "# Paso 5: Calcula la división de a entre b y asígnala a una variable division.\n",
        "division = a / b\n",
        "print(\"División:\", division)\n",
        "\n",
        "# Paso 6: Calcula el módulo de a y b y asígnala a una variable modulo.\n",
        "modulo = a % b\n",
        "print(\"Módulo:\", modulo)\n",
        "\n",
        "# Paso 7: Calcula la potencia de a elevado a b y asígnala a una variable potencia.\n",
        "potencia = a ** b\n",
        "print(\"Potencia:\", potencia)\n",
        "\n",
        "# Paso 8: Calcula la división entera de a entre b y asígnala a una variable division_entera.\n",
        "division_entera = a // b\n",
        "print(\"División Entera:\", division_entera)"
      ],
      "metadata": {
        "colab": {
          "base_uri": "https://localhost:8080/"
        },
        "id": "vU5ZoOsvDVHJ",
        "outputId": "ff71f5ce-1889-4004-944b-02cef556683f"
      },
      "execution_count": 36,
      "outputs": [
        {
          "output_type": "stream",
          "name": "stdout",
          "text": [
            "Suma: 13\n",
            "Resta: 7\n",
            "Multiplicación: 30\n",
            "División: 3.3333333333333335\n",
            "Módulo: 1\n",
            "Potencia: 1000\n",
            "División Entera: 3\n"
          ]
        }
      ]
    },
    {
      "cell_type": "code",
      "source": [],
      "metadata": {
        "id": "zBaxF3fFHDZl"
      },
      "execution_count": null,
      "outputs": []
    }
  ]
}